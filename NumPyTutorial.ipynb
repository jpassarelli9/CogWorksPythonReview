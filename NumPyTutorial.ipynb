{
 "cells": [
  {
   "cell_type": "code",
   "execution_count": 1,
   "metadata": {
    "collapsed": true
   },
   "outputs": [],
   "source": [
    "import numpy as np"
   ]
  },
  {
   "cell_type": "markdown",
   "metadata": {},
   "source": [
    "### NumPy is the fundamental package for scientific computing with Python. Extremely useful!"
   ]
  },
  {
   "cell_type": "markdown",
   "metadata": {},
   "source": [
    " links used:\n",
    "https://docs.scipy.org/doc/numpy/reference/arrays.indexing.html                        \n",
    "http://bwsix.mit.edu/courses/course-v1:BWSI+BWSI120+Summer_2017/"
   ]
  },
  {
   "cell_type": "markdown",
   "metadata": {},
   "source": [
    "### Basic Arrays"
   ]
  },
  {
   "cell_type": "markdown",
   "metadata": {},
   "source": [
    "#### Array Creation"
   ]
  },
  {
   "cell_type": "code",
   "execution_count": 2,
   "metadata": {
    "collapsed": false
   },
   "outputs": [
    {
     "data": {
      "text/plain": [
       "array([0, 1, 2, 3, 4, 5, 6, 7, 8, 9])"
      ]
     },
     "execution_count": 2,
     "metadata": {},
     "output_type": "execute_result"
    }
   ],
   "source": [
    "digits = np.arange(0, 10, 1)  # create an array from [0,10), counting by 1\n",
    "digits"
   ]
  },
  {
   "cell_type": "code",
   "execution_count": 3,
   "metadata": {
    "collapsed": false
   },
   "outputs": [
    {
     "data": {
      "text/plain": [
       "1"
      ]
     },
     "execution_count": 3,
     "metadata": {},
     "output_type": "execute_result"
    }
   ],
   "source": [
    "digits.ndim  # in numpy language dimensions = axis"
   ]
  },
  {
   "cell_type": "code",
   "execution_count": 5,
   "metadata": {
    "collapsed": false
   },
   "outputs": [
    {
     "data": {
      "text/plain": [
       "array([[0, 1, 2, 3, 4],\n",
       "       [5, 6, 7, 8, 9]])"
      ]
     },
     "execution_count": 5,
     "metadata": {},
     "output_type": "execute_result"
    }
   ],
   "source": [
    "digits_2D = digits.reshape(2,5) # same values, different shape\n",
    "digits_2D"
   ]
  },
  {
   "cell_type": "code",
   "execution_count": 7,
   "metadata": {
    "collapsed": false
   },
   "outputs": [
    {
     "name": "stdout",
     "output_type": "stream",
     "text": [
      "int32\n"
     ]
    },
    {
     "data": {
      "text/plain": [
       "2"
      ]
     },
     "execution_count": 7,
     "metadata": {},
     "output_type": "execute_result"
    }
   ],
   "source": [
    "print(digits_2D.dtype)\n",
    "digits_2D.ndim"
   ]
  },
  {
   "cell_type": "code",
   "execution_count": 8,
   "metadata": {
    "collapsed": false
   },
   "outputs": [
    {
     "name": "stdout",
     "output_type": "stream",
     "text": [
      "float64\n"
     ]
    },
    {
     "data": {
      "text/plain": [
       "array([ 2.3,  3.4,  4.5,  5.6,  6.7])"
      ]
     },
     "execution_count": 8,
     "metadata": {},
     "output_type": "execute_result"
    }
   ],
   "source": [
    "python_list = [2.3, 3.4, 4.5, 5.6, 6.7]\n",
    "b = np.array(python_list)  # create array from python list\n",
    "print(b.dtype)\n",
    "b"
   ]
  },
  {
   "cell_type": "code",
   "execution_count": 9,
   "metadata": {
    "collapsed": false
   },
   "outputs": [
    {
     "data": {
      "text/plain": [
       "array([[ 0.,  0.,  0.,  0.],\n",
       "       [ 0.,  0.,  0.,  0.],\n",
       "       [ 0.,  0.,  0.,  0.]])"
      ]
     },
     "execution_count": 9,
     "metadata": {},
     "output_type": "execute_result"
    }
   ],
   "source": [
    "np.zeros( (3,4) )  # create array of zeros, can also create array of ones, np.ones()"
   ]
  },
  {
   "cell_type": "code",
   "execution_count": 10,
   "metadata": {
    "collapsed": false
   },
   "outputs": [
    {
     "name": "stdout",
     "output_type": "stream",
     "text": [
      "(2, 100)\n"
     ]
    },
    {
     "data": {
      "text/plain": [
       "0.46758962315109509"
      ]
     },
     "execution_count": 10,
     "metadata": {},
     "output_type": "execute_result"
    }
   ],
   "source": [
    "random_array = np.random.random((2,100))  # values [0,1)\n",
    "print(random_array.shape)\n",
    "random_array[0,50]"
   ]
  },
  {
   "cell_type": "markdown",
   "metadata": {},
   "source": [
    "#### Array Manipulation"
   ]
  },
  {
   "cell_type": "code",
   "execution_count": 12,
   "metadata": {
    "collapsed": false
   },
   "outputs": [
    {
     "name": "stdout",
     "output_type": "stream",
     "text": [
      "a before adding 2:  [0 1 2 3 4 5 6 7 8 9]\n",
      "a after adding 2:  [ 2  3  4  5  6  7  8  9 10 11]\n",
      "a after squaring:  [  4   9  16  25  36  49  64  81 100 121]\n"
     ]
    }
   ],
   "source": [
    "print(\"a before adding 2: \", digits)  # numpy language these are examples of broadcasting\n",
    "digits += 2   # equivalent to a = a + 2\n",
    "print(\"a after adding 2: \", digits)\n",
    "digits **= 2\n",
    "print(\"a after squaring: \", digits)"
   ]
  },
  {
   "cell_type": "code",
   "execution_count": 13,
   "metadata": {
    "collapsed": false
   },
   "outputs": [
    {
     "data": {
      "text/plain": [
       "array([[ 0.1,  1.5,  3. ],\n",
       "       [ 3.1,  4.5,  6. ]])"
      ]
     },
     "execution_count": 13,
     "metadata": {},
     "output_type": "execute_result"
    }
   ],
   "source": [
    "x = np.array([[0., 1., 2.],  # shape: (2, 3)\n",
    "            [3., 4., 5]])\n",
    "y = np.array([0.1, .5, 1.])   # shape: (3, )\n",
    "x + y  # more nuanced example of broadcasting"
   ]
  },
  {
   "cell_type": "code",
   "execution_count": 14,
   "metadata": {
    "collapsed": false
   },
   "outputs": [
    {
     "name": "stdout",
     "output_type": "stream",
     "text": [
      "0.00362005273332\n",
      "0.998065526672\n",
      "0.525129735322\n"
     ]
    }
   ],
   "source": [
    "print(random_array.min())\n",
    "print(random_array.max())\n",
    "print(random_array.mean())"
   ]
  },
  {
   "cell_type": "code",
   "execution_count": 15,
   "metadata": {
    "collapsed": false
   },
   "outputs": [
    {
     "name": "stdout",
     "output_type": "stream",
     "text": [
      "(2, 2, 2, 2)\n",
      "4\n",
      "(4, 4)\n",
      "2\n"
     ]
    },
    {
     "data": {
      "text/plain": [
       "array([[ 0,  1,  2,  3],\n",
       "       [ 4,  5,  6,  7],\n",
       "       [ 8,  9, 10, 11],\n",
       "       [12, 13, 14, 15]])"
      ]
     },
     "execution_count": 15,
     "metadata": {},
     "output_type": "execute_result"
    }
   ],
   "source": [
    "array = np.arange(16).reshape(2,2,2,2)\n",
    "print(array.shape) \n",
    "print(array.ndim)  \n",
    "array = array.reshape(4,4)\n",
    "print(array.shape) \n",
    "print(array.ndim)  # notice the number of dimensions (axis) equals number of digits in reshape\n",
    "array"
   ]
  },
  {
   "cell_type": "code",
   "execution_count": 16,
   "metadata": {
    "collapsed": false
   },
   "outputs": [
    {
     "name": "stdout",
     "output_type": "stream",
     "text": [
      "[24 28 32 36]\n",
      "[ 6 22 38 54]\n"
     ]
    }
   ],
   "source": [
    "# .sum(axis=n) dimension n is collapsed \n",
    "# and all values in the new matrix equal to the sum of the corresponding collapsed values\n",
    "cols_sum = array.sum(axis=0)\n",
    "print(cols_sum)\n",
    "rows_sum = array.sum(axis=1)\n",
    "print(rows_sum)"
   ]
  },
  {
   "cell_type": "markdown",
   "metadata": {},
   "source": [
    "Be aware there are several other common built in functions not shown in this tutorial.                                                           \n",
    "I.E)   \n",
    "np.sqrt(B)                           \n",
    "A.dot(B) "
   ]
  },
  {
   "cell_type": "markdown",
   "metadata": {},
   "source": [
    "### Indexing & Slicing"
   ]
  },
  {
   "cell_type": "code",
   "execution_count": 26,
   "metadata": {
    "collapsed": false
   },
   "outputs": [
    {
     "name": "stdout",
     "output_type": "stream",
     "text": [
      "[0 1 2 3 4 5 6 7 8 9]\n"
     ]
    },
    {
     "data": {
      "text/plain": [
       "2"
      ]
     },
     "execution_count": 26,
     "metadata": {},
     "output_type": "execute_result"
    }
   ],
   "source": [
    "a = np.arange(10)\n",
    "print(a)\n",
    "a[2]  # index like a python list"
   ]
  },
  {
   "cell_type": "markdown",
   "metadata": {},
   "source": [
    "#### Slicing\n",
    "basic format:   i:j:k where i is the starting index, j is the stopping index, and k is the step"
   ]
  },
  {
   "cell_type": "code",
   "execution_count": 27,
   "metadata": {
    "collapsed": false
   },
   "outputs": [
    {
     "name": "stdout",
     "output_type": "stream",
     "text": [
      "[0 1 2 3 4 5 6 7 8 9]\n",
      "[1 3 5]\n",
      "[1 3 5]\n"
     ]
    }
   ],
   "source": [
    "print(a)\n",
    "print(a[1:7:2])  # start at index 1, stop at index < 7, 2 steps at a time\n",
    "print(a[slice(1,7,2)]) "
   ]
  },
  {
   "cell_type": "code",
   "execution_count": 28,
   "metadata": {
    "collapsed": false
   },
   "outputs": [
    {
     "name": "stdout",
     "output_type": "stream",
     "text": [
      "[[ 0  1  2  3]\n",
      " [ 4  5  6  7]\n",
      " [ 8  9 10 11]\n",
      " [12 13 14 15]] \n",
      "\n",
      "[[0 1 2 3]\n",
      " [4 5 6 7]] \n",
      "\n",
      "[[0 1 2 3]\n",
      " [4 5 6 7]]\n"
     ]
    }
   ],
   "source": [
    "print(B, \"\\n\")\n",
    "print(B[0:2,:], \"\\n\")  #  index first 2 rows\n",
    "print(B[slice(0,2),slice(None)])  #  index first 2 rows"
   ]
  },
  {
   "cell_type": "code",
   "execution_count": 29,
   "metadata": {
    "collapsed": false
   },
   "outputs": [
    {
     "name": "stdout",
     "output_type": "stream",
     "text": [
      "[0 1 2 3 4 5 6 7 8 9]\n",
      "[2 3]\n",
      "[ 0  1 -1  3  4  5  6  7  8  9]\n",
      "[-1  3]\n"
     ]
    }
   ],
   "source": [
    "print(a)\n",
    "third_val = a[2:4]  # note that basic indexing returns a view of the same data (not a copy)\n",
    "print(third_val)\n",
    "a[2] = -1\n",
    "print(a)  \n",
    "print(third_val)  # why do you think basic indexing returns a view?"
   ]
  },
  {
   "cell_type": "code",
   "execution_count": 30,
   "metadata": {
    "collapsed": false
   },
   "outputs": [
    {
     "name": "stdout",
     "output_type": "stream",
     "text": [
      "[[ 0  1  2  3]\n",
      " [ 4  5  6  7]\n",
      " [ 8  9 10 11]\n",
      " [12 13 14 15]]\n"
     ]
    },
    {
     "data": {
      "text/plain": [
       "11"
      ]
     },
     "execution_count": 30,
     "metadata": {},
     "output_type": "execute_result"
    }
   ],
   "source": [
    "B = np.arange(16).reshape(4,4)\n",
    "print((B))\n",
    "B[2,3]  # index multidimensional arrays with a comma"
   ]
  },
  {
   "cell_type": "markdown",
   "metadata": {},
   "source": [
    "### Advanced Indexing"
   ]
  },
  {
   "cell_type": "markdown",
   "metadata": {},
   "source": [
    "#### Numpy array triggers advanced indexing"
   ]
  },
  {
   "cell_type": "code",
   "execution_count": 31,
   "metadata": {
    "collapsed": false
   },
   "outputs": [
    {
     "name": "stdout",
     "output_type": "stream",
     "text": [
      "[ 0  1 -1  3  4  5  6  7  8  9]\n"
     ]
    },
    {
     "data": {
      "text/plain": [
       "array([ 0,  1, -1,  3])"
      ]
     },
     "execution_count": 31,
     "metadata": {},
     "output_type": "execute_result"
    }
   ],
   "source": [
    "print(a)\n",
    "indices = np.array([0,1,2,3])\n",
    "a[indices]"
   ]
  },
  {
   "cell_type": "markdown",
   "metadata": {},
   "source": [
    "#### Boolean values trigger advanced indexing"
   ]
  },
  {
   "cell_type": "code",
   "execution_count": 32,
   "metadata": {
    "collapsed": false
   },
   "outputs": [
    {
     "name": "stdout",
     "output_type": "stream",
     "text": [
      "[ 0  1 -1  3  4  5  6  7  8  9]\n"
     ]
    },
    {
     "data": {
      "text/plain": [
       "array([ 0,  1, -1,  3,  4,  5])"
      ]
     },
     "execution_count": 32,
     "metadata": {},
     "output_type": "execute_result"
    }
   ],
   "source": [
    "print(a)\n",
    "boolean = a < 6\n",
    "a[boolean]"
   ]
  },
  {
   "cell_type": "markdown",
   "metadata": {},
   "source": [
    "#### Non-tuple sequence (e.g. list) of integers or boolean values"
   ]
  },
  {
   "cell_type": "code",
   "execution_count": 33,
   "metadata": {
    "collapsed": false
   },
   "outputs": [
    {
     "data": {
      "text/plain": [
       "array([ 0,  1, -1,  3])"
      ]
     },
     "execution_count": 33,
     "metadata": {},
     "output_type": "execute_result"
    }
   ],
   "source": [
    "indices = list(indices)\n",
    "a[indices]"
   ]
  },
  {
   "cell_type": "markdown",
   "metadata": {},
   "source": [
    "Tuple containing at least one other sequence object (e.g. tuple, list) or NumPy array   \n",
    "example: x[np.array([0]), 0, 1], x[(0, 1), (0, 2)]"
   ]
  },
  {
   "cell_type": "markdown",
   "metadata": {},
   "source": [
    "#### Advanced Indexing: Copy"
   ]
  },
  {
   "cell_type": "code",
   "execution_count": 34,
   "metadata": {
    "collapsed": false
   },
   "outputs": [
    {
     "name": "stdout",
     "output_type": "stream",
     "text": [
      "[-5 -5 -5 -5  4  5  6  7  8  9]\n",
      "[ 0  1 -1  3]\n"
     ]
    }
   ],
   "source": [
    "x = a[indices]  # advanced indexing creates a copy when its on the right side of an assignment \n",
    "x\n",
    "a[indices] = -5\n",
    "print(a)\n",
    "print(x)"
   ]
  },
  {
   "cell_type": "code",
   "execution_count": 35,
   "metadata": {
    "collapsed": false
   },
   "outputs": [
    {
     "data": {
      "text/plain": [
       "array([-5, -5, -5, -5,  4,  5,  6,  7, 10, 10])"
      ]
     },
     "execution_count": 35,
     "metadata": {},
     "output_type": "execute_result"
    }
   ],
   "source": [
    "last_two_indices = [-1,-2]  # negative numbers mean you start indexing from the left (end of array)\n",
    "a[last_two_indices] = 10  # advanced indexing on left broadcast-updates an array (same as view)\n",
    "a"
   ]
  }
 ],
 "metadata": {
  "kernelspec": {
   "display_name": "Python 3",
   "language": "python",
   "name": "python3"
  },
  "language_info": {
   "codemirror_mode": {
    "name": "ipython",
    "version": 3
   },
   "file_extension": ".py",
   "mimetype": "text/x-python",
   "name": "python",
   "nbconvert_exporter": "python",
   "pygments_lexer": "ipython3",
   "version": "3.5.2"
  }
 },
 "nbformat": 4,
 "nbformat_minor": 0
}
