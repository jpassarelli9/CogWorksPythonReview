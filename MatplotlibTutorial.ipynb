{
 "cells": [
  {
   "cell_type": "markdown",
   "metadata": {},
   "source": [
    "# Getting Started with Matplotlib"
   ]
  },
  {
   "cell_type": "markdown",
   "metadata": {},
   "source": [
    "## Visualizaiton plays a vital role in understanding data\n",
    "## Matplotlib is a standard Python package to create graphics"
   ]
  },
  {
   "cell_type": "markdown",
   "metadata": {},
   "source": [
    "#### tutorial : https://matplotlib.org/users/pyplot_tutorial.html                                api: https://matplotlib.org/api/pyplot_api.html"
   ]
  },
  {
   "cell_type": "code",
   "execution_count": null,
   "metadata": {
    "collapsed": false
   },
   "outputs": [],
   "source": [
    "import matplotlib.pyplot as plt\n",
    "import mpl_toolkits.mplot3d.axes3d as p3\n",
    "import matplotlib.animation as animation\n",
    "import numpy as np\n",
    "\n",
    "# include to properly display matplotlib in jupyter notebook\n",
    "%matplotlib notebook  "
   ]
  },
  {
   "cell_type": "markdown",
   "metadata": {},
   "source": [
    "### First Graph"
   ]
  },
  {
   "cell_type": "code",
   "execution_count": null,
   "metadata": {
    "collapsed": false
   },
   "outputs": [],
   "source": [
    "plt.plot([0,1,2,3,4], [1, 1.5, 2, 2.5, 3]) # plot is a versatile method, one recognized argument input is 2 lists representing x and y values\n",
    "plt.ylabel('Y label')\n",
    "plt.xlabel('X label')\n",
    "plt.title('Plot Points')"
   ]
  },
  {
   "cell_type": "markdown",
   "metadata": {},
   "source": [
    "### Figures and Subplots\n",
    "A figure is created via the plt.figure() method.\n",
    "In Figure 1 above we did not explicity code the plt.figure() method and so by default plt.figure(1) ran. \n",
    "\n",
    "Multiple graphs can be in one figure with plt.subplot()    \n",
    "subplot(r,c,fn) is given 3 arguments number of rows, number of columns and figure number    \n",
    "         By default in figure one plt.subplot(111) ran. Notice plt.subplot(111) is shorthand for plt.subplot(1, 1, 1)  \n"
   ]
  },
  {
   "cell_type": "code",
   "execution_count": null,
   "metadata": {
    "collapsed": false
   },
   "outputs": [],
   "source": [
    "plt.figure(2)  # create new figure\n",
    "x = np.arange(0,10)  # plot() can take numpy arrays as arguments \n",
    "y = np.arange(0, 10)\n",
    "y2 = np.arange(2, 12) \n",
    "              \n",
    "plt.subplot(1,2,1)  # 1 row, 2 columns, figure number 1\n",
    "\n",
    "# pass multiple arrays into plot in order to plot on same graph\n",
    "plt.plot(x, y, 'r-', x, y2, 'bs') # # r:red -:line, b:blue s:square\n",
    "plt.title(\"Fig Num 1\")\n",
    "\n",
    "\n",
    "plt.subplot(1,2,2)  # 1 row, 2 columns, figure number 2\n",
    "\n",
    "plt.plot(x, y, 'bo')  # 'b:blue o:circle'\n",
    "plt.title(\"Fig Num 2\")"
   ]
  },
  {
   "cell_type": "markdown",
   "metadata": {},
   "source": [
    "subplots() is a function that is useful because it returns a figure and axes objects.          \n",
    "The figure and axes objects can be used to change the graph as desired                    \n",
    "like subplot(), subplots() takes as number of rows and number of columns as a parameter"
   ]
  },
  {
   "cell_type": "code",
   "execution_count": null,
   "metadata": {
    "collapsed": false
   },
   "outputs": [],
   "source": [
    "x = np.arange(0,5, .05)\n",
    "y = np.sin(x ** 2)\n",
    "\n",
    "f, (ax1, ax2) = plt.subplots(1, 2)  # 1 row, 2 columns\n",
    "ax1.plot(x, y)\n",
    "ax1.set_title('ax1')\n",
    "ax2.plot(x, y, 'ro')\n",
    "ax2.set_title('ax2')"
   ]
  },
  {
   "cell_type": "markdown",
   "metadata": {},
   "source": [
    "## 3D Animation Example\n",
    "As the 3D animation shows, there is a lot one can do with matplotlib            \n",
    "code pasted from: https://matplotlib.org/examples/animation/simple_3danim.html"
   ]
  },
  {
   "cell_type": "code",
   "execution_count": null,
   "metadata": {
    "collapsed": false
   },
   "outputs": [],
   "source": [
    "import numpy as np\n",
    "import matplotlib.pyplot as plt\n",
    "\n",
    "\n",
    "\n",
    "def Gen_RandLine(length, dims=2):\n",
    "    \"\"\"\n",
    "    Create a line using a random walk algorithm\n",
    "\n",
    "    length is the number of points for the line.\n",
    "    dims is the number of dimensions the line has.\n",
    "    \"\"\"\n",
    "    lineData = np.empty((dims, length))\n",
    "    lineData[:, 0] = np.random.rand(dims)\n",
    "    for index in range(1, length):\n",
    "        # scaling the random numbers by 0.1 so\n",
    "        # movement is small compared to position.\n",
    "        # subtraction by 0.5 is to change the range to [-0.5, 0.5]\n",
    "        # to allow a line to move backwards.\n",
    "        step = ((np.random.rand(dims) - 0.5) * 0.1)\n",
    "        lineData[:, index] = lineData[:, index - 1] + step\n",
    "\n",
    "    return lineData\n",
    "\n",
    "\n",
    "def update_lines(num, dataLines, lines):\n",
    "    for line, data in zip(lines, dataLines):\n",
    "        # NOTE: there is no .set_data() for 3 dim data...\n",
    "        line.set_data(data[0:2, :num])\n",
    "        line.set_3d_properties(data[2, :num])\n",
    "    return lines\n",
    "\n",
    "# Attaching 3D axis to the figure\n",
    "fig = plt.figure()\n",
    "ax = p3.Axes3D(fig)\n",
    "\n",
    "# Fifty lines of random 3-D lines\n",
    "data = [Gen_RandLine(25, 3) for index in range(50)]\n",
    "\n",
    "# Creating fifty line objects.\n",
    "# NOTE: Can't pass empty arrays into 3d version of plot()\n",
    "lines = [ax.plot(dat[0, 0:1], dat[1, 0:1], dat[2, 0:1])[0] for dat in data]\n",
    "\n",
    "# Setting the axes properties\n",
    "ax.set_xlim3d([0.0, 1.0])\n",
    "ax.set_xlabel('X')\n",
    "\n",
    "ax.set_ylim3d([0.0, 1.0])\n",
    "ax.set_ylabel('Y')\n",
    "\n",
    "ax.set_zlim3d([0.0, 1.0])\n",
    "ax.set_zlabel('Z')\n",
    "\n",
    "ax.set_title('3D Test')\n",
    "\n",
    "# Creating the Animation object\n",
    "line_ani = animation.FuncAnimation(fig, update_lines, 25, fargs=(data, lines),\n",
    "                                   interval=50, blit=False)\n",
    "\n"
   ]
  }
 ],
 "metadata": {
  "kernelspec": {
   "display_name": "Python 3",
   "language": "python",
   "name": "python3"
  },
  "language_info": {
   "codemirror_mode": {
    "name": "ipython",
    "version": 3
   },
   "file_extension": ".py",
   "mimetype": "text/x-python",
   "name": "python",
   "nbconvert_exporter": "python",
   "pygments_lexer": "ipython3",
   "version": "3.6.0"
  }
 },
 "nbformat": 4,
 "nbformat_minor": 2
}
